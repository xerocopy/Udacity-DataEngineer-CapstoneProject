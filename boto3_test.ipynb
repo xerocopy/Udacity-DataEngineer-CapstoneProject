{
 "cells": [
  {
   "cell_type": "code",
   "execution_count": 4,
   "id": "8ee0774d",
   "metadata": {},
   "outputs": [
    {
     "name": "stdout",
     "output_type": "stream",
     "text": [
      "Requirement already satisfied: boto3 in c:\\users\\jingc\\anaconda3\\lib\\site-packages (1.22.6)\n",
      "Requirement already satisfied: botocore<1.26.0,>=1.25.6 in c:\\users\\jingc\\anaconda3\\lib\\site-packages (from boto3) (1.25.6)\n",
      "Requirement already satisfied: jmespath<2.0.0,>=0.7.1 in c:\\users\\jingc\\anaconda3\\lib\\site-packages (from boto3) (1.0.0)\n",
      "Requirement already satisfied: s3transfer<0.6.0,>=0.5.0 in c:\\users\\jingc\\anaconda3\\lib\\site-packages (from boto3) (0.5.2)\n",
      "Requirement already satisfied: urllib3<1.27,>=1.25.4 in c:\\users\\jingc\\anaconda3\\lib\\site-packages (from botocore<1.26.0,>=1.25.6->boto3) (1.26.7)\n",
      "Requirement already satisfied: python-dateutil<3.0.0,>=2.1 in c:\\users\\jingc\\anaconda3\\lib\\site-packages (from botocore<1.26.0,>=1.25.6->boto3) (2.8.2)\n",
      "Requirement already satisfied: six>=1.5 in c:\\users\\jingc\\anaconda3\\lib\\site-packages (from python-dateutil<3.0.0,>=2.1->botocore<1.26.0,>=1.25.6->boto3) (1.16.0)\n",
      "Collecting logging\n",
      "  Downloading logging-0.4.9.6.tar.gz (96 kB)\n"
     ]
    },
    {
     "name": "stderr",
     "output_type": "stream",
     "text": [
      "    ERROR: Command errored out with exit status 1:\n",
      "     command: 'C:\\Users\\jingc\\anaconda3\\python.exe' -c 'import io, os, sys, setuptools, tokenize; sys.argv[0] = '\"'\"'C:\\\\Users\\\\jingc\\\\AppData\\\\Local\\\\Temp\\\\pip-install-4wn_mzfy\\\\logging_f9b14c4aff58427a86a57b9bf426e176\\\\setup.py'\"'\"'; __file__='\"'\"'C:\\\\Users\\\\jingc\\\\AppData\\\\Local\\\\Temp\\\\pip-install-4wn_mzfy\\\\logging_f9b14c4aff58427a86a57b9bf426e176\\\\setup.py'\"'\"';f = getattr(tokenize, '\"'\"'open'\"'\"', open)(__file__) if os.path.exists(__file__) else io.StringIO('\"'\"'from setuptools import setup; setup()'\"'\"');code = f.read().replace('\"'\"'\\r\\n'\"'\"', '\"'\"'\\n'\"'\"');f.close();exec(compile(code, __file__, '\"'\"'exec'\"'\"'))' egg_info --egg-base 'C:\\Users\\jingc\\AppData\\Local\\Temp\\pip-pip-egg-info-tjh_nxhq'\n",
      "         cwd: C:\\Users\\jingc\\AppData\\Local\\Temp\\pip-install-4wn_mzfy\\logging_f9b14c4aff58427a86a57b9bf426e176\\\n",
      "    Complete output (26 lines):\n",
      "    Traceback (most recent call last):\n",
      "      File \"<string>\", line 1, in <module>\n",
      "      File \"C:\\Users\\jingc\\anaconda3\\lib\\site-packages\\setuptools\\__init__.py\", line 18, in <module>\n",
      "        from setuptools.dist import Distribution\n",
      "      File \"C:\\Users\\jingc\\anaconda3\\lib\\site-packages\\setuptools\\dist.py\", line 32, in <module>\n",
      "        from setuptools.extern.more_itertools import unique_everseen\n",
      "      File \"<frozen importlib._bootstrap>\", line 1007, in _find_and_load\n",
      "      File \"<frozen importlib._bootstrap>\", line 986, in _find_and_load_unlocked\n",
      "      File \"<frozen importlib._bootstrap>\", line 666, in _load_unlocked\n",
      "      File \"<frozen importlib._bootstrap>\", line 565, in module_from_spec\n",
      "      File \"C:\\Users\\jingc\\anaconda3\\lib\\site-packages\\setuptools\\extern\\__init__.py\", line 52, in create_module\n",
      "        return self.load_module(spec.name)\n",
      "      File \"C:\\Users\\jingc\\anaconda3\\lib\\site-packages\\setuptools\\extern\\__init__.py\", line 37, in load_module\n",
      "        __import__(extant)\n",
      "      File \"C:\\Users\\jingc\\anaconda3\\lib\\site-packages\\setuptools\\_vendor\\more_itertools\\__init__.py\", line 1, in <module>\n",
      "        from .more import *  # noqa\n",
      "      File \"C:\\Users\\jingc\\anaconda3\\lib\\site-packages\\setuptools\\_vendor\\more_itertools\\more.py\", line 5, in <module>\n",
      "        from concurrent.futures import ThreadPoolExecutor\n",
      "      File \"C:\\Users\\jingc\\anaconda3\\lib\\concurrent\\futures\\__init__.py\", line 8, in <module>\n",
      "        from concurrent.futures._base import (FIRST_COMPLETED,\n",
      "      File \"C:\\Users\\jingc\\anaconda3\\lib\\concurrent\\futures\\_base.py\", line 7, in <module>\n",
      "        import logging\n",
      "      File \"C:\\Users\\jingc\\AppData\\Local\\Temp\\pip-install-4wn_mzfy\\logging_f9b14c4aff58427a86a57b9bf426e176\\logging\\__init__.py\", line 618\n",
      "        raise NotImplementedError, 'emit must be implemented '\\\n",
      "                                 ^\n",
      "    SyntaxError: invalid syntax\n",
      "    ----------------------------------------\n",
      "WARNING: Discarding https://files.pythonhosted.org/packages/93/4b/979db9e44be09f71e85c9c8cfc42f258adfb7d93ce01deed2788b2948919/logging-0.4.9.6.tar.gz#sha256=26f6b50773f085042d301085bd1bf5d9f3735704db9f37c1ce6d8b85c38f2417 (from https://pypi.org/simple/logging/). Command errored out with exit status 1: python setup.py egg_info Check the logs for full command output.\n",
      "ERROR: Could not find a version that satisfies the requirement logging (from versions: 0.4.9.6)\n",
      "ERROR: No matching distribution found for logging\n"
     ]
    }
   ],
   "source": [
    "!pip install boto3"
   ]
  },
  {
   "cell_type": "code",
   "execution_count": 5,
   "id": "a83fa29e",
   "metadata": {},
   "outputs": [],
   "source": [
    "import logging\n",
    "import boto3\n",
    "from botocore.exceptions import ClientError\n",
    "\n",
    "\n",
    "def create_bucket(bucket_name, region=None):\n",
    "    \"\"\"Create an S3 bucket in a specified region\n",
    "\n",
    "    If a region is not specified, the bucket is created in the S3 default\n",
    "    region (us-east-1).\n",
    "\n",
    "    :param bucket_name: Bucket to create\n",
    "    :param region: String region to create bucket in, e.g., 'us-west-2'\n",
    "    :return: True if bucket created, else False\n",
    "    \"\"\"\n",
    "\n",
    "    # Create bucket\n",
    "    try:\n",
    "        if region is None:\n",
    "            s3_client = boto3.client('s3')\n",
    "            s3_client.create_bucket(Bucket=bucket_name)\n",
    "        else:\n",
    "            s3_client = boto3.client('s3', region_name=region)\n",
    "            location = {'LocationConstraint': region}\n",
    "            s3_client.create_bucket(Bucket=bucket_name,\n",
    "                                    CreateBucketConfiguration=location)\n",
    "    except ClientError as e:\n",
    "        logging.error(e)\n",
    "        return False\n",
    "    return True\n"
   ]
  },
  {
   "cell_type": "code",
   "execution_count": 6,
   "id": "df21b874",
   "metadata": {},
   "outputs": [
    {
     "name": "stdout",
     "output_type": "stream",
     "text": [
      "Existing buckets:\n",
      "  aws-emr-resources-516003265142-us-west-2\n",
      "  aws-logs-516003265142-us-west-2\n",
      "  cloudmento-testbucket\n",
      "  demonencryption9867-test\n",
      "  demonversioning7896-test\n",
      "  myudacitycapstionprojectbucket\n",
      "  mywebsite7896-test\n",
      "  udacstagingbucket\n"
     ]
    }
   ],
   "source": [
    "# Retrieve the list of existing buckets\n",
    "s3 = boto3.client('s3')\n",
    "response = s3.list_buckets()\n",
    "\n",
    "# Output the bucket names\n",
    "print('Existing buckets:')\n",
    "for bucket in response['Buckets']:\n",
    "    print(f'  {bucket[\"Name\"]}')"
   ]
  },
  {
   "cell_type": "code",
   "execution_count": null,
   "id": "dab0b188",
   "metadata": {},
   "outputs": [],
   "source": []
  }
 ],
 "metadata": {
  "kernelspec": {
   "display_name": "Python 3 (ipykernel)",
   "language": "python",
   "name": "python3"
  },
  "language_info": {
   "codemirror_mode": {
    "name": "ipython",
    "version": 3
   },
   "file_extension": ".py",
   "mimetype": "text/x-python",
   "name": "python",
   "nbconvert_exporter": "python",
   "pygments_lexer": "ipython3",
   "version": "3.9.7"
  }
 },
 "nbformat": 4,
 "nbformat_minor": 5
}
